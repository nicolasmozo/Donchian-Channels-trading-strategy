{
 "cells": [
  {
   "cell_type": "code",
   "execution_count": 2,
   "id": "44b4a852-3bcf-45c6-8738-7c194b27e39c",
   "metadata": {},
   "outputs": [],
   "source": [
    "import os\n",
    "import pandas as pd\n",
    "import talib as ta\n",
    "import numpy as np\n",
    "\n",
    "# Create a list of all files in the \"historical data\" sub-folder\n",
    "folder_path = 'historical data'\n",
    "files = [f for f in os.listdir(folder_path) if f.endswith('.txt')]\n",
    "\n",
    "# Initialize a list to store each dataframe\n",
    "dataframes = []\n",
    "\n",
    "# Function to calculate the Donchian Channels\n",
    "def calcDonchianChannels(data: pd.DataFrame, period: 14):\n",
    "    data[\"upperDon\"] = data[\"High\"].rolling(period).max()\n",
    "    data[\"lowerDon\"] = data[\"Low\"].rolling(period).min()\n",
    "    data[\"midDon\"] = (data[\"upperDon\"] + data[\"lowerDon\"]) / 2\n",
    "    return data\n",
    "\n",
    "\n",
    "# Initialize an empty list to store the dataframes\n",
    "df_list = []\n",
    "\n",
    "# Iterate over the tickers list\n",
    "for file in files:\n",
    "    # Fetch historical data for each ticker\n",
    "    symbol = file.split('.')[0]\n",
    "    file_path = os.path.join(folder_path, file)\n",
    "    df = pd.read_csv(file_path, sep=';', header=None, names=[\n",
    "                     'Date', 'Open', 'High', 'Low', 'Close', 'Volume'])\n",
    "    df['Symbol'] = symbol\n",
    "    dataframes.append(df)\n",
    "    df = df.reset_index()[[\"Date\", \"Open\", \"High\", \"Low\", \"Close\"]]\n",
    "    df['Date'] = pd.to_datetime(\n",
    "        df['Date'], format='%Y%m%d').dt.strftime('%Y/%m/%d')\n",
    "    df['linear_reg_line'] = ta.LINEARREG(df['Close'], timeperiod=20)\n",
    "    lr = ta.LINEARREG(df['Close'], timeperiod=20)\n",
    "    df['linear_reg_ma'] = ta.EMA(lr, timeperiod=8)\n",
    "    df[\"Symbol\"] = file\n",
    "    df['ATR(5)'] = ta.ATR(df['High'], df['Low'], df['Close'], timeperiod=5)\n",
    "    upper, mid, lower = ta.BBANDS(\n",
    "        df['Close'], timeperiod=30, nbdevup=2, nbdevdn=2, matype=0)\n",
    "    df[\"bb(30,2)\"] = upper\n",
    "    df = calcDonchianChannels(df, 14)\n",
    "    df[\"don_14\"] = df['midDon']\n",
    "    df[\"SMA_40\"] = ta.SMA(df['Close'], timeperiod=40)\n",
    "    df['Signal Date'] = np.where(((df['linear_reg_line'] != df['linear_reg_ma']) &\n",
    "                                  (df['linear_reg_line'].shift(1) != df['linear_reg_ma'].shift(1))) &\n",
    "                                 (df['linear_reg_line'] > df['linear_reg_ma']) &\n",
    "                                 (df['linear_reg_line'].shift(1) < df['linear_reg_ma'].shift(1)) &\n",
    "                                 # don_14 is equal or increasing from the previous day.\n",
    "                                 (df[\"don_14\"] >= df[\"don_14\"].shift(1)) &\n",
    "                                 # Signal day and the previous day's close must close below bb(30,2).\n",
    "                                 (df[\"Close\"] < df[\"bb(30,2)\"]) & (df[\"Close\"].shift(1) < df[\"bb(30,2)\"].shift(1)) &\n",
    "                                 # SMA_40 is increasing from the previous day.\n",
    "                                 (df[\"SMA_40\"] > df[\"SMA_40\"].shift(1)),\n",
    "                                 df['Date'], '')\n",
    "    df[\"Strategy\"] = np.where(df[\"Signal Date\"] != '', \"DC T-Line Buy\", \"\")\n",
    "    df_list.append(df)\n",
    "\n",
    "# Concatenate all dataframes and export to a single csv\n",
    "result = pd.concat(df_list)\n",
    "result.to_csv(\"All_Symbols_data.csv\", columns=[\"Date\", \"Symbol\", \"Strategy\", \"Open\", \"High\", \"Low\",\n",
    "              \"Close\", \"linear_reg_line\", \"linear_reg_ma\", \"ATR(5)\", \"Signal Date\", \"don_14\", \"bb(30,2)\", \"SMA_40\"])\n"
   ]
  }
 ],
 "metadata": {
  "kernelspec": {
   "display_name": "Python 3",
   "language": "python",
   "name": "python3"
  },
  "language_info": {
   "codemirror_mode": {
    "name": "ipython",
    "version": 3
   },
   "file_extension": ".py",
   "mimetype": "text/x-python",
   "name": "python",
   "nbconvert_exporter": "python",
   "pygments_lexer": "ipython3",
   "version": "3.11.1"
  },
  "vscode": {
   "interpreter": {
    "hash": "aee8b7b246df8f9039afb4144a1f6fd8d2ca17a180786b69acc140d282b71a49"
   }
  }
 },
 "nbformat": 4,
 "nbformat_minor": 5
}
